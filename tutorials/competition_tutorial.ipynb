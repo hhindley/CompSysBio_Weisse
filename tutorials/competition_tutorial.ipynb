{
 "cells": [
  {
   "cell_type": "code",
   "execution_count": 2,
   "id": "4889c06f",
   "metadata": {},
   "outputs": [],
   "source": [
    "import numpy as np\n",
    "import matplotlib.pyplot as plt\n",
    "from scipy.integrate import solve_ivp"
   ]
  },
  {
   "cell_type": "markdown",
   "id": "4da62566",
   "metadata": {},
   "source": [
    "Added in functions for model solving used previously:"
   ]
  },
  {
   "cell_type": "code",
   "execution_count": 3,
   "id": "d5251a54",
   "metadata": {},
   "outputs": [],
   "source": [
    "# setup code from previous notebook\n",
    "\n",
    "# degradation\n",
    "def deg(x, dm):\n",
    "    return x * dm\n",
    "\n",
    "# ribosome binding\n",
    "def r_b(mx, r, kb):\n",
    "    return kb * mx * r  \n",
    "\n",
    "# ribosome unbinding\n",
    "def r_ub(cx, ku):\n",
    "    return cx * ku\n",
    "\n",
    "# transcription rate\n",
    "def tx(w, theta, a, q=None, Kq=None, nq=None): \n",
    "    if q is not None and Kq is not None and nq is not None:\n",
    "        return (w * a / (theta + a)) / (1 + (q / (Kq )) ** nq)\n",
    "    else:\n",
    "        return w * a / (theta + a)\n",
    "\n",
    "# translation rate\n",
    "def tlr(a, nx, cx, gmax, Kgamma):\n",
    "    gamma = gmax * a / (Kgamma + a) \n",
    "    return (gamma / nx) * cx\n",
    "\n",
    "# energy consumption\n",
    "def ttrate(a, cr, ct, cm, cq, gmax, Kgamma):\n",
    "    gamma = gmax * a / (Kgamma + a)\n",
    "    return (cr + ct + cm + cq) * gamma\n",
    "\n",
    "# import \n",
    "def vimp(et, vt, s0, Kt):\n",
    "    return et * vt * s0 / (Kt + s0)\n",
    "\n",
    "# metabolism\n",
    "def vcat(em, si, vm, Km):\n",
    "    return em * vm * si / (Km + si)\n",
    "\n",
    "# growth rate\n",
    "def lam(a, cr, ct, cm, cq, gmax, Kgamma, M):\n",
    "    gamma = gmax * a / (Kgamma + a)\n",
    "    ttrate = (cr + ct + cm + cq) * gamma\n",
    "    lam = ttrate / M\n",
    "    return lam\n",
    "\n",
    "# antibiotic binding\n",
    "def abx_bind(cx, Cm, k_cm):\n",
    "    return cx * Cm * k_cm   "
   ]
  },
  {
   "cell_type": "code",
   "execution_count": 4,
   "id": "973cc03b",
   "metadata": {},
   "outputs": [],
   "source": [
    "# model from growth_model_ode notebook or add your own from previously completed notebook\n",
    "\n",
    "def abx_model(t, y, params):\n",
    "\n",
    "    # parameters \n",
    "    dm, kb, ku, thetar, s0, gmax, thetax, Kt, M, we, Km, vm, nx, Kq, vt, wr, wq, nq, nr, ns, Kgamma, Cm, k_cm = params\n",
    "\n",
    "    # species (LHS)\n",
    "    mt, mm, mq, mr, ct, cm, cq, cr, et, em, q, r, si, a, zmt, zmm, zmq, zmr = y\n",
    "    \n",
    "    # RHS of ODE\n",
    "    dydt = np.zeros(18) # the order of the RHS will match the order of species in y eg. dydt[0] = dmt/dt, dydt[1] = dmm/dt, dydt[2] = dmq/dt etc.\n",
    "\n",
    "    # this model is just an extension of the previous one, so we will repeat the same steps with the addition of antibiotic binding \n",
    "    # transcription\n",
    "    dmtdt = tx(we, thetax, a)\n",
    "    dmmdt = tx(we, thetax, a)\n",
    "    dmqdt = tx(wq, thetax, a, q=q, Kq=Kq, nq=nq)\n",
    "    dmrdt = tx(wr, thetar, a)\n",
    "\n",
    "    # mRNA degradation \n",
    "    dmtdt -= deg(mt, dm)\n",
    "    dmmdt -= deg(mm, dm)\n",
    "    dmqdt -= deg(mq, dm)\n",
    "    dmrdt -= deg(mr, dm)\n",
    "\n",
    "    # ribosome binding\n",
    "    dmtdt -= r_b(mt, r, kb)\n",
    "    dmmdt -= r_b(mm, r, kb)\n",
    "    dmqdt -= r_b(mq, r, kb)\n",
    "    dmrdt -= r_b(mr, r, kb)\n",
    "\n",
    "    dctdt = r_b(mt, r, kb)\n",
    "    dcmdt = r_b(mm, r, kb)\n",
    "    dcqdt = r_b(mq, r, kb)\n",
    "    dcrdt = r_b(mr, r, kb)\n",
    "\n",
    "    drdt =  - r_b(mt, r, kb) - r_b(mm, r, kb) - r_b(mq, r, kb) - r_b(mr, r, kb)\n",
    "\n",
    "    # ribosome unbinding \n",
    "    dmtdt += r_ub(ct, ku)\n",
    "    dmmdt += r_ub(cm, ku)\n",
    "    dmqdt += r_ub(cq, ku)\n",
    "    dmrdt += r_ub(cr, ku)\n",
    "\n",
    "    dctdt -= r_ub(ct, ku)\n",
    "    dcmdt -= r_ub(cm, ku)\n",
    "    dcqdt -= r_ub(cq, ku)\n",
    "    dcrdt -= r_ub(cr, ku)\n",
    "\n",
    "    drdt += r_ub(ct, ku) + r_ub(cm, ku) + r_ub(cq, ku) + r_ub(cr, ku)\n",
    "\n",
    "    # translation\n",
    "    dmtdt += tlr(a, nx, ct, gmax, Kgamma)\n",
    "    dmmdt += tlr(a, nx, cm, gmax, Kgamma)\n",
    "    dmqdt += tlr(a, nx, cq, gmax, Kgamma)\n",
    "    dmrdt += tlr(a, nr, cr, gmax, Kgamma)\n",
    "\n",
    "    dctdt -= tlr(a, nx, ct, gmax, Kgamma)\n",
    "    dcmdt -= tlr(a, nx, cm, gmax, Kgamma)\n",
    "    dcqdt -= tlr(a, nx, cq, gmax, Kgamma)\n",
    "    dcrdt -= tlr(a, nr, cr, gmax, Kgamma)\n",
    "\n",
    "    detdt = tlr(a, nx, ct, gmax, Kgamma)\n",
    "    demdt = tlr(a, nx, cm, gmax, Kgamma)\n",
    "    dqdt = tlr(a, nx, cq, gmax, Kgamma)\n",
    "    drdt += tlr(a, nr, cr, gmax, Kgamma) + tlr(a, nr, cr, gmax, Kgamma) + tlr(a, nx, ct, gmax, Kgamma) + tlr(a, nx, cm, gmax, Kgamma) + tlr(a, nx, cq, gmax, Kgamma)\n",
    "\n",
    "    # nutrient import\n",
    "    dsidt = vimp(et, vt, s0, Kt)\n",
    "\n",
    "    # metabolism\n",
    "    dsidt -= vcat(em, si, vm, Km)\n",
    "    dadt = (ns*vcat(em, si, vm, Km))\n",
    "\n",
    "    # energy consumption\n",
    "    dadt -= ttrate(a, cr, ct, cm, cq, gmax, Kgamma)\n",
    "\n",
    "    # dilution by growth \n",
    "    dmtdt -= (lam(a, cr, ct, cm, cq, gmax, Kgamma, M) * mt)\n",
    "    dmmdt -= (lam(a, cr, ct, cm, cq, gmax, Kgamma, M) * mm)\n",
    "    dmqdt -= (lam(a, cr, ct, cm, cq, gmax, Kgamma, M) * mq)\n",
    "    dmrdt -= (lam(a, cr, ct, cm, cq, gmax, Kgamma, M) * mr)\n",
    "\n",
    "    dctdt -= (lam(a, cr, ct, cm, cq, gmax, Kgamma, M) * ct)   \n",
    "    dcmdt -= (lam(a, cr, ct, cm, cq, gmax, Kgamma, M) * cm)   \n",
    "    dcqdt -= (lam(a, cr, ct, cm, cq, gmax, Kgamma, M) * cq)\n",
    "    dcrdt -= (lam(a, cr, ct, cm, cq, gmax, Kgamma, M) * cr)\n",
    "\n",
    "    detdt -= (lam(a, cr, ct, cm, cq, gmax, Kgamma, M) * et)\n",
    "    demdt -= (lam(a, cr, ct, cm, cq, gmax, Kgamma, M) * em)\n",
    "    dqdt -= (lam(a, cr, ct, cm, cq, gmax, Kgamma, M) * q)\n",
    "    drdt -= (lam(a, cr, ct, cm, cq, gmax, Kgamma, M) * r)\n",
    "\n",
    "    dsidt -= (lam(a, cr, ct, cm, cq, gmax, Kgamma, M) * si)\n",
    "    dadt -= (lam(a, cr, ct, cm, cq, gmax, Kgamma, M) * a)\n",
    "\n",
    "    # antibiotic binding\n",
    "    dctdt -= abx_bind(ct, Cm, k_cm)\n",
    "    dcmdt -= abx_bind(cm, Cm, k_cm)\n",
    "    dcqdt -= abx_bind(cq, Cm, k_cm)\n",
    "    dcrdt -= abx_bind(cr, Cm, k_cm)\n",
    "\n",
    "    dzmtdt = abx_bind(ct, Cm, k_cm)\n",
    "    dzmmdt = abx_bind(cm, Cm, k_cm)\n",
    "    dzmqdt = abx_bind(cq, Cm, k_cm)\n",
    "    dzmrdt = abx_bind(cr, Cm, k_cm)\n",
    "\n",
    "    # dilution for new zombie species\n",
    "    dzmtdt -= (lam(a, cr, ct, cm, cq, gmax, Kgamma, M) * zmt)\n",
    "    dzmmdt -= (lam(a, cr, ct, cm, cq, gmax, Kgamma, M) * zmm)\n",
    "    dzmqdt -= (lam(a, cr, ct, cm, cq, gmax, Kgamma, M) * zmq)\n",
    "    dzmrdt -= (lam(a, cr, ct, cm, cq, gmax, Kgamma, M) * zmr)\n",
    "\n",
    "    # build full dydt system\n",
    "    dydt[0] = dmtdt\n",
    "    dydt[1] = dmmdt\n",
    "    dydt[2] = dmqdt\n",
    "    dydt[3] = dmrdt\n",
    "    dydt[4] = dctdt\n",
    "    dydt[5] = dcmdt\n",
    "    dydt[6] = dcqdt\n",
    "    dydt[7] = dcrdt\n",
    "    dydt[8] = detdt\n",
    "    dydt[9] = demdt\n",
    "    dydt[10] = dqdt\n",
    "    dydt[11] = drdt\n",
    "    dydt[12] = dsidt\n",
    "    dydt[13] = dadt\n",
    "\n",
    "    # new species\n",
    "    dydt[14] = dzmtdt\n",
    "    dydt[15] = dzmmdt\n",
    "    dydt[16] = dzmqdt\n",
    "    dydt[17] = dzmrdt\n",
    "\n",
    "\n",
    "    return dydt\n",
    "\n",
    "    "
   ]
  },
  {
   "cell_type": "markdown",
   "id": "d0ef44c4",
   "metadata": {},
   "source": [
    "New population model:"
   ]
  },
  {
   "cell_type": "code",
   "execution_count": 5,
   "id": "00f4033a",
   "metadata": {},
   "outputs": [],
   "source": [
    "def popmodel_ode(t, y, params):\n",
    "\n",
    "    # parameters \n",
    "    dm, kb, ku, thetar, s0, gmax, thetax, Kt, M, we, Km, vm, nx, Kq, vt, wr, wq, nq, nr, ns, Kgamma, Cm, k_cm, kin, kdeath = params\n",
    "\n",
    "    # ensure no negative concentrations\n",
    "    y = np.maximum(y, 0)\n",
    "    \n",
    "    # species (LHS)\n",
    "    mt, mm, mq, mr, ct, cm, cq, cr, et, em, q, r, si, a, zmt, zmm, zmq, zmr, s, N = y\n",
    "\n",
    "    cell = y[:-2]\n",
    "    cell_params = list(params[:-2])\n",
    "    cell_params[4] = s  # update external nutrient concentration in params with species \n",
    "    dcelldt = abx_model(t, cell, cell_params) # insert your model in here\n",
    "\n",
    "    # extracellular ODEs\n",
    "    # nutrient influx and consumption\n",
    "    v_imp   = et * vt * s / (Kt + s)\n",
    "    dsdt    = kin - N * v_imp\n",
    "\n",
    "    # population growth \n",
    "    gamma   = gmax * a / (Kgamma + a)\n",
    "    lam  = gamma/M * (cr + ct + cm + cq)\n",
    "    dNdt    = N * (lam - kdeath)\n",
    "\n",
    "    return np.concatenate([dcelldt, [dsdt], [dNdt]])"
   ]
  },
  {
   "cell_type": "markdown",
   "id": "ec5c8409",
   "metadata": {},
   "source": [
    "Parameters and initial conditions:"
   ]
  },
  {
   "cell_type": "code",
   "execution_count": 6,
   "id": "4200514a",
   "metadata": {},
   "outputs": [],
   "source": [
    "params_dict = {\n",
    "    'dm': 0.1,\n",
    "    'kb': 1,\n",
    "    'ku': 1.0,\n",
    "    'thetar': 426.8693338968694,\n",
    "    's0': 1e4,\n",
    "    'gmax': 1260.0,\n",
    "    'thetax': 4.379733394834643,\n",
    "    'Kt': 1.0e3,\n",
    "    'M': 1.0e8,\n",
    "    'we': 4.139172187824451,\n",
    "    'Km': 1.0e3,\n",
    "    'vm': 5800.0,\n",
    "    'nx': 300.0,\n",
    "    'Kq': 1.522190403737490e+05,\n",
    "    'vt': 726.0,\n",
    "    'wr': 929.9678874564831,\n",
    "    'wq': 948.9349882947897,\n",
    "    'nq': 4,\n",
    "    'nr': 7549.0,\n",
    "    'ns': 0.5,\n",
    "    'Kgamma': 3e9,\n",
    "    'Cm': 0,\n",
    "    'k_cm': 0.005990373118888,\n",
    "    'kin': 0,\n",
    "    'kdeath': 0\n",
    "}\n",
    "\n",
    "def params_for_sim(param_dict):\n",
    "    order = ['dm', 'kb', 'ku', 'thetar', 's0', 'gmax', 'thetax', 'Kt', 'M', 'we', 'Km', 'vm', 'nx', 'Kq', 'vt', 'wr', 'wq', 'nq', 'nr', 'ns', 'Kgamma', 'Cm', 'k_cm', 'kin', 'kdeath']\n",
    "    return [param_dict[key] for key in order]\n",
    "\n",
    "params = params_for_sim(params_dict)\n",
    "\n",
    "init_dict = {\n",
    "    'mt_0': 0.,\n",
    "    'mm_0': 0.,\n",
    "    'mq_0': 0.,\n",
    "    'mr_0': 0.,\n",
    "    'ct_0': 0.,\n",
    "    'cm_0': 0.,\n",
    "    'cq_0': 0.,\n",
    "    'cr_0': 0.,\n",
    "    'et_0': 1.,\n",
    "    'em_0': 1.,\n",
    "    'q_0': 0.,\n",
    "    'r_0': 1.0,\n",
    "    'si_0': 0.,\n",
    "    'a_0':  0.0,\n",
    "    'zmt_0':0, \n",
    "    'zmm_0':0, \n",
    "    'zmq_0':0, \n",
    "    'zmr_0':0,\n",
    "    's_0' : 1e12,\n",
    "    'N_0' : 1\n",
    "}\n",
    "\n",
    "def init_for_sim(init_dict):\n",
    "    order = ['mt_0', 'mm_0', 'mq_0', 'mr_0', 'ct_0', 'cm_0', 'cq_0', 'cr_0', 'et_0', 'em_0', 'q_0', 'r_0', 'si_0', 'a_0', 'zmt_0', 'zmm_0', 'zmq_0', 'zmr_0', 's_0', 'N_0']\n",
    "    return [init_dict[key] for key in order]\n",
    "\n",
    "init = init_for_sim(init_dict)"
   ]
  },
  {
   "cell_type": "markdown",
   "id": "2335fa73",
   "metadata": {},
   "source": [
    "Initially solve the cell growth model to steady state so we start the simulations with more realistic initial conditions:"
   ]
  },
  {
   "cell_type": "code",
   "execution_count": 7,
   "id": "ac953779",
   "metadata": {},
   "outputs": [],
   "source": [
    "sol = solve_ivp(abx_model, (0, 1e9), init[:-2], args=(params[:-2],), method='Radau')\n",
    "\n",
    "init_pop = np.concatenate([sol.y[:, -1], [init_dict['s_0']], [init_dict['N_0']]])\n"
   ]
  },
  {
   "cell_type": "markdown",
   "id": "d8a13b1f",
   "metadata": {},
   "source": [
    "Solve the population model with these new initial conditions and plot the population over time:"
   ]
  },
  {
   "cell_type": "code",
   "execution_count": 8,
   "id": "fb2a2be4",
   "metadata": {},
   "outputs": [
    {
     "data": {
      "text/plain": [
       "Text(0, 0.5, 'Population size')"
      ]
     },
     "execution_count": 8,
     "metadata": {},
     "output_type": "execute_result"
    },
    {
     "data": {
      "image/png": "[encoded data removed]",
      "text/plain": [
       "<Figure size 640x480 with 1 Axes>"
      ]
     },
     "metadata": {},
     "output_type": "display_data"
    }
   ],
   "source": [
    "sol_pop = solve_ivp(popmodel_ode, (0, 10000), init_pop, args=(params,), method='Radau')\n",
    "plt.plot(sol_pop.t, sol_pop.y[-1])\n",
    "plt.xlabel('Time')\n",
    "plt.ylabel('Population size')"
   ]
  },
  {
   "cell_type": "markdown",
   "id": "54a23fed",
   "metadata": {},
   "source": [
    "### Competition between populations\n",
    "\n",
    "We want to simulate competition by using different models to represent different populations. We can do this by changing specific parameter values except `nx, nq, nr, we, wr, wq, k_cm, ns, s0, gmax, M, kin`. Firstly, we need a model to simulate this:"
   ]
  },
  {
   "cell_type": "code",
   "execution_count": 9,
   "id": "5357da0e",
   "metadata": {},
   "outputs": [],
   "source": [
    "def competition_ode(t, y, params):\n",
    "\n",
    "    # ensure no negative concentrations\n",
    "    y = np.maximum(y, 0)\n",
    "\n",
    "    pop1 = y[:len(y)//2] # population 1 is the first half of y\n",
    "    pop2 = y[len(y)//2:] # population 2 is the second half of y\n",
    "\n",
    "    par1 = params[:len(params)//2] # parameters for pop1 is the first half of params\n",
    "    par2 = params[len(params)//2:] # parameters for pop2 is the second half of params\n",
    "\n",
    "    dpop1dt = popmodel_ode(t, pop1, par1) # run the population model for pop1\n",
    "    dpop2dt = popmodel_ode(t, pop2, par2) # run the population model for pop2\n",
    "\n",
    "    kin = par1[-2] # kin is the same for both populations, so we can just take it from par1\n",
    "    dsdt = - kin + dpop1dt[-2] + dpop2dt[-2] # update dsdt to be the sum of both populations minus kin as it's already included in both\n",
    "\n",
    "    dpop1dt[-2] = dsdt \n",
    "    dpop2dt[-2] = dsdt\n",
    "\n",
    "    return np.concatenate([dpop1dt, dpop2dt])\n"
   ]
  },
  {
   "cell_type": "markdown",
   "id": "b26a1098",
   "metadata": {},
   "source": [
    "We need two sets of parameters. We will give the first model our initial set of parameters from above and in the second model we will change `thetax`:"
   ]
  },
  {
   "cell_type": "code",
   "execution_count": 10,
   "id": "8bb1a283",
   "metadata": {},
   "outputs": [],
   "source": [
    "params_new_dict = params_dict.copy()\n",
    "params_new_dict['parameter'] = ... # modify as needed\n",
    "params_new = params_for_sim(params_new_dict)\n",
    "\n",
    "params_full = np.concatenate([params, params_new])"
   ]
  },
  {
   "cell_type": "markdown",
   "id": "dc6cbd12",
   "metadata": {},
   "source": [
    "Again, we will run the cell growth model to steady state for these two sets of parameters:"
   ]
  },
  {
   "cell_type": "code",
   "execution_count": 11,
   "id": "34d82fbe",
   "metadata": {},
   "outputs": [],
   "source": [
    "sol1 = solve_ivp(abx_model, (0, 1e9), init[:-2], args=(params[:-2],), method='Radau')\n",
    "sol2 = solve_ivp(abx_model, (0, 1e9), init[:-2], args=(params_new[:-2],), method='Radau')\n",
    "\n",
    "cell1 = np.concatenate([sol1.y[:, -1], [init_dict['s_0']], [init_dict['N_0']]])\n",
    "cell2 = np.concatenate([sol2.y[:, -1], [init_dict['s_0']], [init_dict['N_0']]])\n",
    "\n",
    "init_full = np.concatenate([cell1, cell2])"
   ]
  },
  {
   "cell_type": "markdown",
   "id": "75447865",
   "metadata": {},
   "source": [
    "Now we can run the competition model with the new initial conditions and see which population wins:"
   ]
  },
  {
   "cell_type": "code",
   "execution_count": 13,
   "id": "29e8f5e2",
   "metadata": {},
   "outputs": [
    {
     "data": {
      "text/plain": [
       "<matplotlib.legend.Legend at 0x11be12720>"
      ]
     },
     "execution_count": 13,
     "metadata": {},
     "output_type": "execute_result"
    },
    {
     "data": {
      "image/png": "[encoded data removed]",
      "text/plain": [
       "<Figure size 640x480 with 1 Axes>"
      ]
     },
     "metadata": {},
     "output_type": "display_data"
    }
   ],
   "source": [
    "sol_comp = solve_ivp(competition_ode, (0, 1e4), init_full, args=(params_full,), method='Radau')\n",
    "\n",
    "plt.plot(sol_comp.t, sol_comp.y[19], label='Population 1')\n",
    "plt.plot(sol_comp.t, sol_comp.y[39], label='Population 2')\n",
    "plt.xlabel('Time')\n",
    "plt.ylabel('Population Size')\n",
    "plt.legend()"
   ]
  },
  {
   "cell_type": "markdown",
   "id": "24f3023e",
   "metadata": {},
   "source": [
    "## Next steps: \n",
    "\n",
    "#### In teams, try to build the most robust population, we will then put them up against eachother in different environmental conditions."
   ]
  },
  {
   "cell_type": "markdown",
   "id": "7b5c5954",
   "metadata": {},
   "source": []
  }
 ],
 "metadata": {
  "kernelspec": {
   "display_name": "venv",
   "language": "python",
   "name": "python3"
  },
  "language_info": {
   "codemirror_mode": {
    "name": "ipython",
    "version": 3
   },
   "file_extension": ".py",
   "mimetype": "text/x-python",
   "name": "python",
   "nbconvert_exporter": "python",
   "pygments_lexer": "ipython3",
   "version": "3.12.3"
  }
 },
 "nbformat": 4,
 "nbformat_minor": 5
}
