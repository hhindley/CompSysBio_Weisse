{
  "cells": [
    {
      "cell_type": "code",
      "execution_count": 3,
      "metadata": {
        "id": "tLsIPzqbB7Gf"
      },
      "outputs": [],
      "source": [
        "import numpy as np\n",
        "import matplotlib.pyplot as plt\n",
        "from scipy.integrate import solve_ivp"
      ]
    },
    {
      "cell_type": "markdown",
      "metadata": {},
      "source": [
        "## Model building:"
      ]
    },
    {
      "cell_type": "markdown",
      "metadata": {},
      "source": [
        "##### Setup the model parameters and inital conditions:\n",
        "It is a good idea to use dictionaries for this, so when indexing you can index by name and not make mistakes by indexing the wrong number. In this setup, to preserve the correct order we must convert the dictionary values to a list by using the functions `params_for_sim` and `init_for_sim` before using them in simulations. When we want to change a parameter or initial condition we can copy the dictionary (`dict_copy = params_dict.copy()`), access and change a single variable by `dict_copy['s0'] = 100`, before converting it back to a list (`params = params_for_sim(dict_copy)`) for simulation. "
      ]
    },
    {
      "cell_type": "code",
      "execution_count": null,
      "metadata": {},
      "outputs": [],
      "source": [
        "params_dict = {\n",
        "    'dm': 0.1,\n",
        "    'kb': 1,\n",
        "    'ku': 1.0,\n",
        "    'thetar': 426.8693338968694,\n",
        "    's0': 1e4,\n",
        "    'gmax': 1260.0,\n",
        "    'thetax': 4.379733394834643,\n",
        "    'Kt': 1.0e3,\n",
        "    'M': 1.0e8,\n",
        "    'we': 4.139172187824451,\n",
        "    'Km': 1.0e3,\n",
        "    'vm': 5800.0,\n",
        "    'nx': 300.0,\n",
        "    'Kq': 1.522190403737490e+05,\n",
        "    'vt': 726.0,\n",
        "    'wr': 929.9678874564831,\n",
        "    'wq': 948.9349882947897,\n",
        "    'nq': 4,\n",
        "    'nr': 7549.0,\n",
        "    'ns': 0.5,\n",
        "    'Kgamma': 7,\n",
        "}\n",
        "\n",
        "def params_for_sim(param_dict):\n",
        "    if len(param_dict) == 21:\n",
        "        order = ['dm', 'kb', 'ku', 'thetar', 's0', 'gmax', 'thetax', 'Kt', 'M', 'we', 'Km', 'vm', 'nx', 'Kq', 'vt', 'wr', 'wq', 'nq', 'nr', 'ns', 'Kgamma']\n",
        "    elif len(param_dict) == 23:\n",
        "        order = ['dm', 'kb', 'ku', 'thetar', 's0', 'gmax', 'thetax', 'Kt', 'M', 'we', 'Km', 'vm', 'nx', 'Kq', 'vt', 'wr', 'wq', 'nq', 'nr', 'ns', 'Kgamma', 'Cm', 'k_cm']\n",
        "    else:\n",
        "        raise ValueError(\"param_dict must have either 21 or 23 parameters.\")\n",
        "    \n",
        "\n",
        "    return [param_dict[key] for key in order]\n",
        "\n",
        "params = params_for_sim(params_dict)\n",
        "\n",
        "init_dict = {\n",
        "    'mt_0': 0.,\n",
        "    'mm_0': 0.,\n",
        "    'mq_0': 0.,\n",
        "    'mr_0': 0.,\n",
        "    'ct_0': 0.,\n",
        "    'cm_0': 0.,\n",
        "    'cq_0': 0.,\n",
        "    'cr_0': 0.,\n",
        "    'et_0': 0.,\n",
        "    'em_0': 0.,\n",
        "    'q_0': 0.,\n",
        "    'r_0': 10.0,\n",
        "    'si_0': 0.,\n",
        "    'a_0':  1000.0,\n",
        "\n",
        "}\n",
        "\n",
        "def init_for_sim(init_dict):\n",
        "    if len(init_dict) == 14:\n",
        "        order = ['mt_0', 'mm_0', 'mq_0', 'mr_0', 'ct_0', 'cm_0', 'cq_0', 'cr_0', 'et_0', 'em_0', 'q_0', 'r_0', 'si_0', 'a_0']\n",
        "    elif len(init_dict) == 18:\n",
        "        order = ['mt_0', 'mm_0', 'mq_0', 'mr_0', 'ct_0', 'cm_0', 'cq_0', 'cr_0', 'et_0', 'em_0', 'q_0', 'r_0', 'si_0', 'a_0', 'zmt_0', 'zmm_0', 'zmq_0', 'zmr_0']\n",
        "    else:\n",
        "        raise ValueError(\"init_dict must have either 14 or 18 variables.\")\n",
        "    \n",
        "    return [init_dict[key] for key in order]\n",
        "\n",
        "init = init_for_sim(init_dict)"
      ]
    },
    {
      "cell_type": "markdown",
      "metadata": {},
      "source": [
        "##### We need to build the system of ODEs. Here are the reactions in the model:\n",
        "\n",
        "\n",
        "![alt text](./growth_model.png \"Reactions\")\n",
        "\n",
        "#### Transcription rate:\n",
        "\n",
        "#### $\\omega_x(a) = \\omega_x \\frac{a}{\\theta_x + a}, \\quad x \\in {r,t,m}$\n",
        "\n",
        "#### $\\omega_q(q,a) = \\omega_q \\frac{a}{\\theta_x + a} \\frac{1}{1+(q/K_q)^{h_q}}$\n",
        "\n",
        "#### Translation rate:\n",
        "\n",
        "#### $c_x \\frac{\\gamma(a)}{n_x}, \\quad \\mathrm{where} \\quad \\gamma(a) = \\frac{\\gamma_{max} a}{K_{\\gamma} + a}$\n",
        "\n",
        "#### Growth rate:\n",
        "\n",
        "#### $\\lambda = \\frac{\\gamma(a) (c_r + c_t + c_m + c_q)}{M}$\n"
      ]
    },
    {
      "cell_type": "markdown",
      "metadata": {},
      "source": [
        "For readability in the code it's good practise to build functions for the reaction rates:"
      ]
    },
    {
      "cell_type": "code",
      "execution_count": 6,
      "metadata": {},
      "outputs": [],
      "source": [
        "# degradation\n",
        "def deg(x, dm):\n",
        "    return x * dm\n",
        "\n",
        "# ribosome binding\n",
        "def r_b(mx, r, kb):\n",
        "    return kb * mx * r  \n",
        "\n",
        "# ribosome unbinding\n",
        "def r_ub(cx, ku):\n",
        "    return cx * ku\n",
        "\n",
        "# transcription rate\n",
        "def tx(w, theta, a, q=None, Kq=None, nq=None): \n",
        "    if q is not None and Kq is not None and nq is not None:\n",
        "        return (w * a / (theta + a)) / (1 + (q / (Kq )) ** nq)\n",
        "    else:\n",
        "        return w * a / (theta + a)\n",
        "\n",
        "# translation rate\n",
        "def tlr(a, nx, cx, gmax, Kgamma):\n",
        "    gamma = gmax * a / (Kgamma + a) \n",
        "    return (gamma / nx) * cx\n",
        "\n",
        "# energy consumption\n",
        "def ttrate(a, cr, ct, cm, cq, gmax, Kgamma):\n",
        "    gamma = gmax * a / (Kgamma + a)\n",
        "    return (cr + ct + cm + cq) * gamma\n",
        "\n",
        "# import \n",
        "def vimp(et, vt, s0, Kt):\n",
        "    return et * vt * s0 / (Kt + s0)\n",
        "\n",
        "# metabolism\n",
        "def vcat(em, si, vm, Km):\n",
        "    return em * vm * si / (Km + si)\n",
        "\n",
        "# growth rate\n",
        "def lam(a, cr, ct, cm, cq, gmax, Kgamma, M):\n",
        "    gamma = gmax * a / (Kgamma + a)\n",
        "    ttrate = (cr + ct + cm + cq) * gamma\n",
        "    lam = ttrate / M\n",
        "    return lam"
      ]
    },
    {
      "cell_type": "markdown",
      "metadata": {},
      "source": [
        "We can start building the model, by adding reactions one step at a time. In Python, the model is defined in a function which must state the parameters, species (left hand side of ODE) and right hand side of ODE:"
      ]
    },
    {
      "cell_type": "code",
      "execution_count": 7,
      "metadata": {},
      "outputs": [],
      "source": [
        "def model(t, y, params):\n",
        "    # parameters\n",
        "    dm, kb, ku, thetar, s0, gmax, thetax, Kt, M, we, Km, vm, nx, Kq, vt, wr, wq, nq, nr, ns, Kgamma = params\n",
        "\n",
        "    # species (LHS)\n",
        "    mt, mm, mq, mr, ct, cm, cq, cr, et, em, q, r, si, a = y\n",
        "    \n",
        "    # RHS of ODE\n",
        "    dydt = np.zeros(14) # the order of the RHS will match the order of species in y eg. dydt[0] = dmt/dt, dydt[1] = dmm/dt, dydt[2] = dmq/dt etc.\n",
        "    dmtdt, dmmdt, dmqdt, dmrdt, dctdt, dcmdt, dcqdt, dcrdt, detdt, demdt, dqdt, drdt, dsidt, dadt = 0, 0, 0, 0, 0, 0, 0, 0, 0, 0, 0, 0, 0, 0\n",
        "    \n",
        "    # Now go through each reaction and add its contribution to the appropriate species in dydt\n",
        "    # transcription\n",
        "    dmtdt += tx(we, thetax, a)\n",
        "    dmmdt += tx(we, thetax, a)\n",
        "    dmqdt += tx(wq, thetax, a, q=q, Kq=Kq, nq=nq)\n",
        "    dmrdt += tx(wr, thetar, a)\n",
        "\n",
        "    # now continue for the remaining reactions and species...\n",
        "    # mRNA degradation \n",
        "\n",
        "\n",
        "    # ribosome binding\n",
        "\n",
        "\n",
        "    # ribosome unbinding \n",
        "\n",
        "\n",
        "    # translation\n",
        "\n",
        "\n",
        "    # nutrient import\n",
        "\n",
        "\n",
        "    # metabolism\n",
        "\n",
        "\n",
        "    # energy consumption\n",
        "    \n",
        "\n",
        "    # build full dydt system\n",
        "    dydt[0] = dmtdt\n",
        "    dydt[1] = dmmdt\n",
        "    dydt[2] = dmqdt\n",
        "    dydt[3] = dmrdt\n",
        "    dydt[4] = dctdt\n",
        "    dydt[5] = dcmdt\n",
        "    dydt[6] = dcqdt\n",
        "    dydt[7] = dcrdt\n",
        "    dydt[8] = detdt\n",
        "    dydt[9] = demdt\n",
        "    dydt[10] = dqdt\n",
        "    dydt[11] = drdt\n",
        "    dydt[12] = dsidt\n",
        "    dydt[13] = dadt\n",
        "\n",
        "    return dydt"
      ]
    },
    {
      "cell_type": "markdown",
      "metadata": {
        "id": "UN12AcGG5icM"
      },
      "source": [
        "Set the timespan for the model to run to ensure it reaches steady state:"
      ]
    },
    {
      "cell_type": "code",
      "execution_count": 8,
      "metadata": {
        "id": "8dRfWWTpDvZ5"
      },
      "outputs": [],
      "source": [
        "t0 = 0; tf = 1e9"
      ]
    },
    {
      "cell_type": "markdown",
      "metadata": {
        "id": "wezNWjaL5nPE"
      },
      "source": [
        "Solve the model using the solve_ivp function from scipy."
      ]
    },
    {
      "cell_type": "code",
      "execution_count": 18,
      "metadata": {
        "id": "kvjXy1kDD6t8"
      },
      "outputs": [],
      "source": [
        "sol = solve_ivp(model, [t0, tf], init, args=(params,), method='Radau')"
      ]
    },
    {
      "cell_type": "markdown",
      "metadata": {
        "id": "R9FCe_5e5yLY"
      },
      "source": [
        "Plot the results by plotting each species over time on the same plot:"
      ]
    },
    {
      "cell_type": "code",
      "execution_count": 9,
      "metadata": {},
      "outputs": [],
      "source": [
        "labels=['mt', 'mm', 'mq', 'mr', 'ct', 'cm', 'cq', 'cr', 'et', 'em', 'q', 'r', 'si', 'a']\n",
        "\n",
        "# plotting code"
      ]
    },
    {
      "cell_type": "markdown",
      "metadata": {},
      "source": [
        "<details>\n",
        "<summary>Click to check your model solution</summary>\n",
        "\n",
        "![alt text](./model_solution.png \"Reactions\")"
      ]
    },
    {
      "cell_type": "markdown",
      "metadata": {},
      "source": [
        "### Monod's law"
      ]
    },
    {
      "cell_type": "markdown",
      "metadata": {
        "id": "eFfpu2X66Bsa"
      },
      "source": [
        "Vary the nutrient (s0) and solve the model, calculate the growth rate and plot results:"
      ]
    },
    {
      "cell_type": "code",
      "execution_count": null,
      "metadata": {
        "colab": {
          "base_uri": "https://localhost:8080/",
          "height": 489
        },
        "id": "N68WyOkvEu6J",
        "outputId": "4a5e67eb-e79d-47ea-e6e9-8a326aac122d"
      },
      "outputs": [],
      "source": [
        "nutrient = np.linspace(0, 1e4, 100) # values of s0 to simulate\n",
        "growth_rate = [] # to store growth rates\n",
        "params1_dict = params_dict.copy() # make a copy of params to modify s0 so we don't change the original params, remember to use params_for_sim to convert back to list\n",
        "\n",
        "# for loop to simulate for each nutrient value\n",
        "\n",
        "# plot the results "
      ]
    },
    {
      "cell_type": "markdown",
      "metadata": {
        "id": "xYIj4hXD14ry"
      },
      "source": [
        "#### As well as reproducing Monod's law, using this model we can also reproduce two other bacterial growth laws: the growth rate is linearly proportional to the ribosomal mass fraction (ΦR), and the addition of a translation-inhibtiing drug results in this relationship becoming negatively proportional"
      ]
    },
    {
      "cell_type": "markdown",
      "metadata": {
        "id": "64x1j4kJ2i2-"
      },
      "source": [
        "Include antibiotics in the original model by adding 4 zombie complexes, 1 for each protein sector, that consist of the drug bound to the ribosome-mRNA complex. Model building should be done as before, but this time you will have 17 species and one new reaction for antibiotic binding."
      ]
    },
    {
      "cell_type": "code",
      "execution_count": null,
      "metadata": {},
      "outputs": [],
      "source": [
        "# define a function for antibiotic binding \n",
        "def abx_bind(cx, Cm, k_cm):\n",
        "    return cx * Cm * k_cm"
      ]
    },
    {
      "cell_type": "code",
      "execution_count": null,
      "metadata": {},
      "outputs": [],
      "source": [
        "def abx_model(t, y, params):\n",
        "\n",
        "    # parameters \n",
        "    dm, kb, ku, thetar, s0, gmax, thetax, Kt, M, we, Km, vm, nx, Kq, vt, wr, wq, nq, nr, ns, Kgamma, Cm, k_cm = params\n",
        "\n",
        "    # species (LHS)\n",
        "    mt, mm, mq, mr, ct, cm, cq, cr, et, em, q, r, si, a, zmt, zmm, zmq, zmr = y\n",
        "    \n",
        "    # RHS of ODE\n",
        "    dydt = np.zeros(18) \n",
        "\n",
        "    \n",
        "    return dydt\n",
        "\n",
        "    "
      ]
    },
    {
      "cell_type": "markdown",
      "metadata": {
        "id": "0Q8tIp4F21Ah"
      },
      "source": [
        "Define any new parameters and initial conditions:"
      ]
    },
    {
      "cell_type": "code",
      "execution_count": null,
      "metadata": {
        "id": "EMz5S2fQH0s1"
      },
      "outputs": [],
      "source": [
        "params_abx_dict = params_dict.copy()\n",
        "params_abx_dict['Cm'] = 0\n",
        "params_abx_dict['k_cm'] = 0.005990373118888\n",
        "\n",
        "init_abx_dict = init_dict.copy()\n",
        "init_abx_dict['zmt_0'] = 0\n",
        "init_abx_dict['zmm_0'] = 0\n",
        "init_abx_dict['zmq_0'] = 0\n",
        "init_abx_dict['zmr_0'] = 0\n",
        "\n",
        "params_abx = params_for_sim(params_abx_dict)\n",
        "init_abx = init_for_sim(init_abx_dict)"
      ]
    },
    {
      "cell_type": "markdown",
      "metadata": {
        "id": "E-gpIJSN69eh"
      },
      "source": [
        "Define a function to calculate the ribosomal mass fraction:"
      ]
    },
    {
      "cell_type": "code",
      "execution_count": 29,
      "metadata": {
        "id": "K0G_xmpj7Bsc"
      },
      "outputs": [],
      "source": [
        "def calc_rmf(r, cr, ct, cm, cq, zmr, zmt, zmm, zmq, nr, M):\n",
        "    return nr * (r + cr + ct + cm + cq + zmr + zmt + zmm + zmq) / M"
      ]
    },
    {
      "cell_type": "markdown",
      "metadata": {
        "id": "vPEi05lp240D"
      },
      "source": [
        "For different values of nutrient quality (ns) and chloramphenicol concentration (Cm) solve the model and calculate the associated growth rate and ribosomal mass fraction:"
      ]
    },
    {
      "cell_type": "code",
      "execution_count": null,
      "metadata": {},
      "outputs": [],
      "source": [
        "ns_arr2 = [0.08,0.11541599,0.16651064,0.24022489,0.3466,0.5] # ns values\n",
        "Cm_arr = [0, 2, 4, 8, 12] # Cm values\n",
        "\n",
        "# for loop to simulate for each ns and Cm value\n",
        "\n",
        "# plot the results "
      ]
    }
  ],
  "metadata": {
    "colab": {
      "provenance": []
    },
    "kernelspec": {
      "display_name": ".venv",
      "language": "python",
      "name": "python3"
    },
    "language_info": {
      "codemirror_mode": {
        "name": "ipython",
        "version": 3
      },
      "file_extension": ".py",
      "mimetype": "text/x-python",
      "name": "python",
      "nbconvert_exporter": "python",
      "pygments_lexer": "ipython3",
      "version": "3.11.9"
    }
  },
  "nbformat": 4,
  "nbformat_minor": 0
}
