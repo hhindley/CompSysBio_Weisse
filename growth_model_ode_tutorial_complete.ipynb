{
  "cells": [
    {
      "cell_type": "code",
      "execution_count": 1,
      "metadata": {
        "id": "tLsIPzqbB7Gf"
      },
      "outputs": [],
      "source": [
        "import numpy as np\n",
        "import matplotlib.pyplot as plt\n",
        "from scipy.integrate import solve_ivp"
      ]
    },
    {
      "cell_type": "markdown",
      "metadata": {},
      "source": [
        "## Model building:"
      ]
    },
    {
      "cell_type": "markdown",
      "metadata": {},
      "source": [
        "##### Setup the model parameters and inital conditions:\n",
        "It is a good idea to use dictionaries for this, so when indexing you can index by name and not make mistakes by indexing the wrong number. In this setup, to preserve the correct order we must convert the dictionary values to a list by using the functions `params_for_sim` and `init_for_sim` before using them in simulations. When we want to change a parameter or initial condition we can copy the dictionary (`dict_copy = params_dict.copy()`), access and change a single variable by `dict_copy['s0'] = 100`, before converting it back to a list (`params = params_for_sim(dict_copy)`) for simulation. "
      ]
    },
    {
      "cell_type": "code",
      "execution_count": 21,
      "metadata": {},
      "outputs": [],
      "source": [
        "params_dict = {\n",
        "    'dm': 0.1,\n",
        "    'kb': 1,\n",
        "    'ku': 1.0,\n",
        "    'thetar': 426.8693338968694,\n",
        "    's0': 1e4,\n",
        "    'gmax': 1260.0,\n",
        "    'thetax': 4.379733394834643,\n",
        "    'Kt': 1.0e3,\n",
        "    'M': 1.0e8,\n",
        "    'we': 4.139172187824451,\n",
        "    'Km': 1.0e3,\n",
        "    'vm': 5800.0,\n",
        "    'nx': 300.0,\n",
        "    'Kq': 1.522190403737490e+05,\n",
        "    'vt': 726.0,\n",
        "    'wr': 929.9678874564831,\n",
        "    'wq': 948.9349882947897,\n",
        "    'nq': 4,\n",
        "    'nr': 7549.0,\n",
        "    'ns': 0.5,\n",
        "    'Kgamma': 7,\n",
        "}\n",
        "\n",
        "def params_for_sim(param_dict):\n",
        "    if len(param_dict) == 21:\n",
        "        order = ['dm', 'kb', 'ku', 'thetar', 's0', 'gmax', 'thetax', 'Kt', 'M', 'we', 'Km', 'vm', 'nx', 'Kq', 'vt', 'wr', 'wq', 'nq', 'nr', 'ns', 'Kgamma']\n",
        "    elif len(param_dict) == 23:\n",
        "        order = ['dm', 'kb', 'ku', 'thetar', 's0', 'gmax', 'thetax', 'Kt', 'M', 'we', 'Km', 'vm', 'nx', 'Kq', 'vt', 'wr', 'wq', 'nq', 'nr', 'ns', 'Kgamma', 'Cm', 'k_cm']\n",
        "    else:\n",
        "        raise ValueError(\"param_dict must have either 21 or 23 parameters.\")\n",
        "    \n",
        "\n",
        "    return [param_dict[key] for key in order]\n",
        "\n",
        "params = params_for_sim(params_dict)\n",
        "\n",
        "init_dict = {\n",
        "    'mt_0': 0.,\n",
        "    'mm_0': 0.,\n",
        "    'mq_0': 0.,\n",
        "    'mr_0': 0.,\n",
        "    'ct_0': 0.,\n",
        "    'cm_0': 0.,\n",
        "    'cq_0': 0.,\n",
        "    'cr_0': 0.,\n",
        "    'et_0': 0.,\n",
        "    'em_0': 0.,\n",
        "    'q_0': 0.,\n",
        "    'r_0': 10.0,\n",
        "    'si_0': 0.,\n",
        "    'a_0':  1000.0,\n",
        "\n",
        "}\n",
        "\n",
        "def init_for_sim(init_dict):\n",
        "    if len(init_dict) == 14:\n",
        "        order = ['mt_0', 'mm_0', 'mq_0', 'mr_0', 'ct_0', 'cm_0', 'cq_0', 'cr_0', 'et_0', 'em_0', 'q_0', 'r_0', 'si_0', 'a_0']\n",
        "    elif len(init_dict) == 18:\n",
        "        order = ['mt_0', 'mm_0', 'mq_0', 'mr_0', 'ct_0', 'cm_0', 'cq_0', 'cr_0', 'et_0', 'em_0', 'q_0', 'r_0', 'si_0', 'a_0', 'zmt_0', 'zmm_0', 'zmq_0', 'zmr_0']\n",
        "    else:\n",
        "        raise ValueError(\"init_dict must have either 14 or 18 variables.\")\n",
        "    \n",
        "    return [init_dict[key] for key in order]\n",
        "\n",
        "init = init_for_sim(init_dict)"
      ]
    },
    {
      "cell_type": "markdown",
      "metadata": {},
      "source": [
        "##### We need to build the system of ODEs. Here are the reactions in the model:\n",
        "\n",
        "\n",
        "![alt text](./growth_model.png \"Reactions\")\n",
        "\n",
        "#### Transcription rate:\n",
        "\n",
        "#### $\\omega_x(a) = \\omega_x \\frac{a}{\\theta_x + a}, \\quad x \\in {r,t,m}$\n",
        "\n",
        "#### $\\omega_q(q,a) = \\omega_q \\frac{a}{\\theta_x + a} \\frac{1}{1+(q/K_q)^{h_q}}$\n",
        "\n",
        "#### Translation rate:\n",
        "\n",
        "#### $c_x \\frac{\\gamma(a)}{n_x}, \\quad \\mathrm{where} \\quad \\gamma(a) = \\frac{\\gamma_{max} a}{K_{\\gamma} + a}$\n",
        "\n",
        "#### Growth rate:\n",
        "\n",
        "#### $\\lambda = \\frac{\\gamma(a) (c_r + c_t + c_m + c_q)}{M}$\n"
      ]
    },
    {
      "cell_type": "markdown",
      "metadata": {},
      "source": [
        "For readability in the code it's good practise to build functions for the reaction rates:"
      ]
    },
    {
      "cell_type": "code",
      "execution_count": 12,
      "metadata": {},
      "outputs": [],
      "source": [
        "# degradation\n",
        "def deg(x, dm):\n",
        "    return x * dm\n",
        "\n",
        "# ribosome binding\n",
        "def r_b(mx, r, kb):\n",
        "    return kb * mx * r  \n",
        "\n",
        "# ribosome unbinding\n",
        "def r_ub(cx, ku):\n",
        "    return cx * ku\n",
        "\n",
        "# transcription rate\n",
        "def tx(w, theta, a, q=None, Kq=None, nq=None): \n",
        "    if q is not None and Kq is not None and nq is not None:\n",
        "        return (w * a / (theta + a)) / (1 + (q / (Kq )) ** nq)\n",
        "    else:\n",
        "        return w * a / (theta + a)\n",
        "\n",
        "# translation rate\n",
        "def tlr(a, nx, cx, gmax, Kgamma):\n",
        "    gamma = gmax * a / (Kgamma + a) \n",
        "    return (gamma / nx) * cx\n",
        "\n",
        "# energy consumption\n",
        "def ttrate(a, cr, ct, cm, cq, gmax, Kgamma):\n",
        "    gamma = gmax * a / (Kgamma + a)\n",
        "    return (cr + ct + cm + cq) * gamma\n",
        "\n",
        "# import \n",
        "def vimp(et, vt, s0, Kt):\n",
        "    return et * vt * s0 / (Kt + s0)\n",
        "\n",
        "# metabolism\n",
        "def vcat(em, si, vm, Km):\n",
        "    return em * vm * si / (Km + si)\n",
        "\n",
        "# growth rate\n",
        "def lam(a, cr, ct, cm, cq, gmax, Kgamma, M):\n",
        "    gamma = gmax * a / (Kgamma + a)\n",
        "    ttrate = (cr + ct + cm + cq) * gamma\n",
        "    lam = ttrate / M\n",
        "    return lam"
      ]
    },
    {
      "cell_type": "markdown",
      "metadata": {},
      "source": [
        "We can start building the model, by adding reactions one step at a time. In Python, the model is defined in a function which must state the parameters, species (left hand side of ODE) and right hand side of ODE:"
      ]
    },
    {
      "cell_type": "code",
      "execution_count": 13,
      "metadata": {},
      "outputs": [],
      "source": [
        "def model(t, y, params):\n",
        "    # parameters\n",
        "    dm, kb, ku, thetar, s0, gmax, thetax, Kt, M, we, Km, vm, nx, Kq, vt, wr, wq, nq, nr, ns, Kgamma = params\n",
        "\n",
        "    # species (LHS)\n",
        "    mt, mm, mq, mr, ct, cm, cq, cr, et, em, q, r, si, a = y\n",
        "    \n",
        "    # RHS of ODE\n",
        "    dydt = np.zeros(14) # the order of the RHS will match the order of species in y eg. dydt[0] = dmt/dt, dydt[1] = dmm/dt, dydt[2] = dmq/dt etc.\n",
        "    dmtdt, dmmdt, dmqdt, dmrdt, dctdt, dcmdt, dcqdt, dcrdt, detdt, demdt, dqdt, drdt, dsidt, dadt = 0, 0, 0, 0, 0, 0, 0, 0, 0, 0, 0, 0, 0, 0\n",
        "\n",
        "    # Now go through each reaction and add its contribution to the appropriate species in dydt\n",
        "    # transcription\n",
        "    dmtdt += tx(we, thetax, a)\n",
        "    dmmdt += tx(we, thetax, a)\n",
        "    dmqdt += tx(wq, thetax, a, q=q, Kq=Kq, nq=nq)\n",
        "    dmrdt += tx(wr, thetar, a)\n",
        "\n",
        "    # mRNA degradation \n",
        "    dmtdt -= deg(mt, dm)\n",
        "    dmmdt -= deg(mm, dm)\n",
        "    dmqdt -= deg(mq, dm)\n",
        "    dmrdt -= deg(mr, dm)\n",
        "\n",
        "    # ribosome binding\n",
        "    dmtdt -= r_b(mt, r, kb)\n",
        "    dmmdt -= r_b(mm, r, kb)\n",
        "    dmqdt -= r_b(mq, r, kb)\n",
        "    dmrdt -= r_b(mr, r, kb)\n",
        "\n",
        "    dctdt += r_b(mt, r, kb)\n",
        "    dcmdt += r_b(mm, r, kb)\n",
        "    dcqdt += r_b(mq, r, kb)\n",
        "    dcrdt += r_b(mr, r, kb)\n",
        "\n",
        "    drdt =  - r_b(mt, r, kb) - r_b(mm, r, kb) - r_b(mq, r, kb) - r_b(mr, r, kb)\n",
        "\n",
        "    # ribosome unbinding \n",
        "    dmtdt += r_ub(ct, ku)\n",
        "    dmmdt += r_ub(cm, ku)\n",
        "    dmqdt += r_ub(cq, ku)\n",
        "    dmrdt += r_ub(cr, ku)\n",
        "\n",
        "    dctdt -= r_ub(ct, ku)\n",
        "    dcmdt -= r_ub(cm, ku)\n",
        "    dcqdt -= r_ub(cq, ku)\n",
        "    dcrdt -= r_ub(cr, ku)\n",
        "\n",
        "    drdt += r_ub(ct, ku) + r_ub(cm, ku) + r_ub(cq, ku) + r_ub(cr, ku)\n",
        "\n",
        "    # translation\n",
        "    dmtdt += tlr(a, nx, ct, gmax, Kgamma)\n",
        "    dmmdt += tlr(a, nx, cm, gmax, Kgamma)\n",
        "    dmqdt += tlr(a, nx, cq, gmax, Kgamma)\n",
        "    dmrdt += tlr(a, nr, cr, gmax, Kgamma)\n",
        "\n",
        "    dctdt -= tlr(a, nx, ct, gmax, Kgamma)\n",
        "    dcmdt -= tlr(a, nx, cm, gmax, Kgamma)\n",
        "    dcqdt -= tlr(a, nx, cq, gmax, Kgamma)\n",
        "    dcrdt -= tlr(a, nr, cr, gmax, Kgamma)\n",
        "\n",
        "    detdt += tlr(a, nx, ct, gmax, Kgamma)\n",
        "    demdt += tlr(a, nx, cm, gmax, Kgamma)\n",
        "    dqdt += tlr(a, nx, cq, gmax, Kgamma)\n",
        "    drdt += tlr(a, nr, cr, gmax, Kgamma) + tlr(a, nr, cr, gmax, Kgamma) + tlr(a, nx, ct, gmax, Kgamma) + tlr(a, nx, cm, gmax, Kgamma) + tlr(a, nx, cq, gmax, Kgamma)\n",
        "\n",
        "    # nutrient import\n",
        "    dsidt += vimp(et, vt, s0, Kt)\n",
        "\n",
        "    # metabolism\n",
        "    dsidt -= vcat(em, si, vm, Km)\n",
        "    dadt += (ns*vcat(em, si, vm, Km))\n",
        "\n",
        "    # energy consumption\n",
        "    dadt -= ttrate(a, cr, ct, cm, cq, gmax, Kgamma)\n",
        "\n",
        "    # dilution by growth \n",
        "    dmtdt -= (lam(a, cr, ct, cm, cq, gmax, Kgamma, M) * mt)\n",
        "    dmmdt -= (lam(a, cr, ct, cm, cq, gmax, Kgamma, M) * mm)\n",
        "    dmqdt -= (lam(a, cr, ct, cm, cq, gmax, Kgamma, M) * mq)\n",
        "    dmrdt -= (lam(a, cr, ct, cm, cq, gmax, Kgamma, M) * mr)\n",
        "\n",
        "    dctdt -= (lam(a, cr, ct, cm, cq, gmax, Kgamma, M) * ct)   \n",
        "    dcmdt -= (lam(a, cr, ct, cm, cq, gmax, Kgamma, M) * cm)   \n",
        "    dcqdt -= (lam(a, cr, ct, cm, cq, gmax, Kgamma, M) * cq)\n",
        "    dcrdt -= (lam(a, cr, ct, cm, cq, gmax, Kgamma, M) * cr)\n",
        "\n",
        "    detdt -= (lam(a, cr, ct, cm, cq, gmax, Kgamma, M) * et)\n",
        "    demdt -= (lam(a, cr, ct, cm, cq, gmax, Kgamma, M) * em)\n",
        "    dqdt -= (lam(a, cr, ct, cm, cq, gmax, Kgamma, M) * q)\n",
        "    drdt -= (lam(a, cr, ct, cm, cq, gmax, Kgamma, M) * r)\n",
        "\n",
        "    dsidt -= (lam(a, cr, ct, cm, cq, gmax, Kgamma, M) * si)\n",
        "    dadt -= (lam(a, cr, ct, cm, cq, gmax, Kgamma, M) * a)\n",
        "\n",
        "    # build full dydt system\n",
        "    dydt[0] = dmtdt\n",
        "    dydt[1] = dmmdt\n",
        "    dydt[2] = dmqdt\n",
        "    dydt[3] = dmrdt\n",
        "    dydt[4] = dctdt\n",
        "    dydt[5] = dcmdt\n",
        "    dydt[6] = dcqdt\n",
        "    dydt[7] = dcrdt\n",
        "    dydt[8] = detdt\n",
        "    dydt[9] = demdt\n",
        "    dydt[10] = dqdt\n",
        "    dydt[11] = drdt\n",
        "    dydt[12] = dsidt\n",
        "    dydt[13] = dadt\n",
        "\n",
        "    return dydt"
      ]
    },
    {
      "cell_type": "markdown",
      "metadata": {
        "id": "UN12AcGG5icM"
      },
      "source": [
        "Set the timespan for the model to run to ensure it reaches steady state:"
      ]
    },
    {
      "cell_type": "code",
      "execution_count": 14,
      "metadata": {
        "id": "8dRfWWTpDvZ5"
      },
      "outputs": [],
      "source": [
        "t0 = 0; tf = 1e9"
      ]
    },
    {
      "cell_type": "markdown",
      "metadata": {
        "id": "wezNWjaL5nPE"
      },
      "source": [
        "Solve the model using the solve_ivp function from scipy."
      ]
    },
    {
      "cell_type": "code",
      "execution_count": 15,
      "metadata": {
        "id": "kvjXy1kDD6t8"
      },
      "outputs": [],
      "source": [
        "sol = solve_ivp(model, [t0, tf], init, args=(params,), method='Radau')"
      ]
    },
    {
      "cell_type": "markdown",
      "metadata": {
        "id": "R9FCe_5e5yLY"
      },
      "source": [
        "Plot the results by plotting each species over time on the same plot:"
      ]
    },
    {
      "cell_type": "code",
      "execution_count": 16,
      "metadata": {},
      "outputs": [
        {
          "data": {
            "text/plain": [
              "<matplotlib.legend.Legend at 0x132380690>"
            ]
          },
          "execution_count": 16,
          "metadata": {},
          "output_type": "execute_result"
        },
        {
          "data": {
            "image/png": "[encoded data removed]",
            "text/plain": [
              "<Figure size 640x480 with 1 Axes>"
            ]
          },
          "metadata": {},
          "output_type": "display_data"
        }
      ],
      "source": [
        "labels=['mt', 'mm', 'mq', 'mr', 'ct', 'cm', 'cq', 'cr', 'et', 'em', 'q', 'r', 'si', 'a']\n",
        "\n",
        "for i in range(sol.y.shape[0]):\n",
        "    plt.plot(sol.t, sol.y[i], label=labels[i])\n",
        "    plt.xscale('log')\n",
        "plt.xlabel('Time (min)')\n",
        "plt.ylabel('Number of molecules')\n",
        "plt.legend()"
      ]
    },
    {
      "cell_type": "markdown",
      "metadata": {},
      "source": [
        "### Monod's law"
      ]
    },
    {
      "cell_type": "markdown",
      "metadata": {
        "id": "eFfpu2X66Bsa"
      },
      "source": [
        "Vary the nutrient (s0) and solve the model, calculate the growth rate and plot results:"
      ]
    },
    {
      "cell_type": "code",
      "execution_count": 17,
      "metadata": {
        "colab": {
          "base_uri": "https://localhost:8080/",
          "height": 489
        },
        "id": "N68WyOkvEu6J",
        "outputId": "4a5e67eb-e79d-47ea-e6e9-8a326aac122d"
      },
      "outputs": [
        {
          "data": {
            "text/plain": [
              "Text(0.5, 1.0, \"Monod's law\")"
            ]
          },
          "execution_count": 17,
          "metadata": {},
          "output_type": "execute_result"
        },
        {
          "data": {
            "image/png": "[encoded data removed]",
            "text/plain": [
              "<Figure size 640x480 with 1 Axes>"
            ]
          },
          "metadata": {},
          "output_type": "display_data"
        }
      ],
      "source": [
        "nutrient = np.linspace(0, 1e4, 100)\n",
        "growth_rate = []\n",
        "new_params_dict = params_dict.copy()\n",
        "\n",
        "for i in nutrient:\n",
        "    new_params_dict['s0'] = i\n",
        "    params1 = params_for_sim(new_params_dict)\n",
        "    sol = solve_ivp(model, [t0, tf], init, args=(params1,), method='Radau')\n",
        "    mt, mm, mq, mr, ct, cm, cq, cr, et, em, q, r, si, a = sol.y\n",
        "    growth_rate.append(lam(a[-1], cr[-1], ct[-1], cm[-1], cq[-1], new_params_dict['gmax'], new_params_dict['Kgamma'], new_params_dict['M']))\n",
        "\n",
        "plt.plot(nutrient, growth_rate)\n",
        "plt.xlabel('Nutrient (molecules)')\n",
        "plt.ylabel('Growth rate (1/min)')\n",
        "plt.title('Monod\\'s law')"
      ]
    },
    {
      "cell_type": "code",
      "execution_count": null,
      "metadata": {},
      "outputs": [],
      "source": [
        "# add nutrient growth law on its own "
      ]
    },
    {
      "cell_type": "markdown",
      "metadata": {},
      "source": []
    },
    {
      "cell_type": "markdown",
      "metadata": {},
      "source": [
        "#### As well as reproducing Monod's law, using this model we can also reproduce two other bacterial growth laws: the growth rate is linearly proportional to the ribosomal mass fraction (ΦR), and the addition of a translation-inhibtiing drug results in this relationship becoming negatively proportional"
      ]
    },
    {
      "cell_type": "markdown",
      "metadata": {
        "id": "64x1j4kJ2i2-"
      },
      "source": [
        "Include antibiotics in the original model by adding 4 zombie complexes, 1 for each protein sector, that consist of the drug bound to the ribosome-mRNA complex. Model building should be done as before, but this time you will have 17 species and one new reaction for antibiotic binding."
      ]
    },
    {
      "cell_type": "code",
      "execution_count": 18,
      "metadata": {},
      "outputs": [],
      "source": [
        "def abx_bind(cx, Cm, k_cm):\n",
        "    return cx * Cm * k_cm"
      ]
    },
    {
      "cell_type": "code",
      "execution_count": 19,
      "metadata": {},
      "outputs": [],
      "source": [
        "def abx_model(t, y, params):\n",
        "\n",
        "    # parameters \n",
        "    dm, kb, ku, thetar, s0, gmax, thetax, Kt, M, we, Km, vm, nx, Kq, vt, wr, wq, nq, nr, ns, Kgamma, Cm, k_cm = params\n",
        "\n",
        "    # species (LHS)\n",
        "    mt, mm, mq, mr, ct, cm, cq, cr, et, em, q, r, si, a, zmt, zmm, zmq, zmr = y\n",
        "    \n",
        "    # RHS of ODE\n",
        "    dydt = np.zeros(18) # the order of the RHS will match the order of species in y eg. dydt[0] = dmt/dt, dydt[1] = dmm/dt, dydt[2] = dmq/dt etc.\n",
        "\n",
        "    # this model is just an extension of the previous one, so we will repeat the same steps with the addition of antibiotic binding \n",
        "    # transcription\n",
        "    dmtdt = tx(we, thetax, a)\n",
        "    dmmdt = tx(we, thetax, a)\n",
        "    dmqdt = tx(wq, thetax, a, q=q, Kq=Kq, nq=nq)\n",
        "    dmrdt = tx(wr, thetar, a)\n",
        "\n",
        "    # mRNA degradation \n",
        "    dmtdt -= deg(mt, dm)\n",
        "    dmmdt -= deg(mm, dm)\n",
        "    dmqdt -= deg(mq, dm)\n",
        "    dmrdt -= deg(mr, dm)\n",
        "\n",
        "    # ribosome binding\n",
        "    dmtdt -= r_b(mt, r, kb)\n",
        "    dmmdt -= r_b(mm, r, kb)\n",
        "    dmqdt -= r_b(mq, r, kb)\n",
        "    dmrdt -= r_b(mr, r, kb)\n",
        "\n",
        "    dctdt = r_b(mt, r, kb)\n",
        "    dcmdt = r_b(mm, r, kb)\n",
        "    dcqdt = r_b(mq, r, kb)\n",
        "    dcrdt = r_b(mr, r, kb)\n",
        "\n",
        "    drdt =  - r_b(mt, r, kb) - r_b(mm, r, kb) - r_b(mq, r, kb) - r_b(mr, r, kb)\n",
        "\n",
        "    # ribosome unbinding \n",
        "    dmtdt += r_ub(ct, ku)\n",
        "    dmmdt += r_ub(cm, ku)\n",
        "    dmqdt += r_ub(cq, ku)\n",
        "    dmrdt += r_ub(cr, ku)\n",
        "\n",
        "    dctdt -= r_ub(ct, ku)\n",
        "    dcmdt -= r_ub(cm, ku)\n",
        "    dcqdt -= r_ub(cq, ku)\n",
        "    dcrdt -= r_ub(cr, ku)\n",
        "\n",
        "    drdt += r_ub(ct, ku) + r_ub(cm, ku) + r_ub(cq, ku) + r_ub(cr, ku)\n",
        "\n",
        "    # translation\n",
        "    dmtdt += tlr(a, nx, ct, gmax, Kgamma)\n",
        "    dmmdt += tlr(a, nx, cm, gmax, Kgamma)\n",
        "    dmqdt += tlr(a, nx, cq, gmax, Kgamma)\n",
        "    dmrdt += tlr(a, nr, cr, gmax, Kgamma)\n",
        "\n",
        "    dctdt -= tlr(a, nx, ct, gmax, Kgamma)\n",
        "    dcmdt -= tlr(a, nx, cm, gmax, Kgamma)\n",
        "    dcqdt -= tlr(a, nx, cq, gmax, Kgamma)\n",
        "    dcrdt -= tlr(a, nr, cr, gmax, Kgamma)\n",
        "\n",
        "    detdt = tlr(a, nx, ct, gmax, Kgamma)\n",
        "    demdt = tlr(a, nx, cm, gmax, Kgamma)\n",
        "    dqdt = tlr(a, nx, cq, gmax, Kgamma)\n",
        "    drdt += tlr(a, nr, cr, gmax, Kgamma) + tlr(a, nr, cr, gmax, Kgamma) + tlr(a, nx, ct, gmax, Kgamma) + tlr(a, nx, cm, gmax, Kgamma) + tlr(a, nx, cq, gmax, Kgamma)\n",
        "\n",
        "    # nutrient import\n",
        "    dsidt = vimp(et, vt, s0, Kt)\n",
        "\n",
        "    # metabolism\n",
        "    dsidt -= vcat(em, si, vm, Km)\n",
        "    dadt = (ns*vcat(em, si, vm, Km))\n",
        "\n",
        "    # energy consumption\n",
        "    dadt -= ttrate(a, cr, ct, cm, cq, gmax, Kgamma)\n",
        "\n",
        "    # dilution by growth \n",
        "    dmtdt -= (lam(a, cr, ct, cm, cq, gmax, Kgamma, M) * mt)\n",
        "    dmmdt -= (lam(a, cr, ct, cm, cq, gmax, Kgamma, M) * mm)\n",
        "    dmqdt -= (lam(a, cr, ct, cm, cq, gmax, Kgamma, M) * mq)\n",
        "    dmrdt -= (lam(a, cr, ct, cm, cq, gmax, Kgamma, M) * mr)\n",
        "\n",
        "    dctdt -= (lam(a, cr, ct, cm, cq, gmax, Kgamma, M) * ct)   \n",
        "    dcmdt -= (lam(a, cr, ct, cm, cq, gmax, Kgamma, M) * cm)   \n",
        "    dcqdt -= (lam(a, cr, ct, cm, cq, gmax, Kgamma, M) * cq)\n",
        "    dcrdt -= (lam(a, cr, ct, cm, cq, gmax, Kgamma, M) * cr)\n",
        "\n",
        "    detdt -= (lam(a, cr, ct, cm, cq, gmax, Kgamma, M) * et)\n",
        "    demdt -= (lam(a, cr, ct, cm, cq, gmax, Kgamma, M) * em)\n",
        "    dqdt -= (lam(a, cr, ct, cm, cq, gmax, Kgamma, M) * q)\n",
        "    drdt -= (lam(a, cr, ct, cm, cq, gmax, Kgamma, M) * r)\n",
        "\n",
        "    dsidt -= (lam(a, cr, ct, cm, cq, gmax, Kgamma, M) * si)\n",
        "    dadt -= (lam(a, cr, ct, cm, cq, gmax, Kgamma, M) * a)\n",
        "\n",
        "    # antibiotic binding\n",
        "    dctdt -= abx_bind(ct, Cm, k_cm)\n",
        "    dcmdt -= abx_bind(cm, Cm, k_cm)\n",
        "    dcqdt -= abx_bind(cq, Cm, k_cm)\n",
        "    dcrdt -= abx_bind(cr, Cm, k_cm)\n",
        "\n",
        "    dzmtdt = abx_bind(ct, Cm, k_cm)\n",
        "    dzmmdt = abx_bind(cm, Cm, k_cm)\n",
        "    dzmqdt = abx_bind(cq, Cm, k_cm)\n",
        "    dzmrdt = abx_bind(cr, Cm, k_cm)\n",
        "\n",
        "    # dilution for new zombie species\n",
        "    dzmtdt -= (lam(a, cr, ct, cm, cq, gmax, Kgamma, M) * zmt)\n",
        "    dzmmdt -= (lam(a, cr, ct, cm, cq, gmax, Kgamma, M) * zmm)\n",
        "    dzmqdt -= (lam(a, cr, ct, cm, cq, gmax, Kgamma, M) * zmq)\n",
        "    dzmrdt -= (lam(a, cr, ct, cm, cq, gmax, Kgamma, M) * zmr)\n",
        "\n",
        "    # build full dydt system\n",
        "    dydt[0] = dmtdt\n",
        "    dydt[1] = dmmdt\n",
        "    dydt[2] = dmqdt\n",
        "    dydt[3] = dmrdt\n",
        "    dydt[4] = dctdt\n",
        "    dydt[5] = dcmdt\n",
        "    dydt[6] = dcqdt\n",
        "    dydt[7] = dcrdt\n",
        "    dydt[8] = detdt\n",
        "    dydt[9] = demdt\n",
        "    dydt[10] = dqdt\n",
        "    dydt[11] = drdt\n",
        "    dydt[12] = dsidt\n",
        "    dydt[13] = dadt\n",
        "\n",
        "    # new species\n",
        "    dydt[14] = dzmtdt\n",
        "    dydt[15] = dzmmdt\n",
        "    dydt[16] = dzmqdt\n",
        "    dydt[17] = dzmrdt\n",
        "\n",
        "\n",
        "    return dydt\n",
        "\n",
        "    "
      ]
    },
    {
      "cell_type": "markdown",
      "metadata": {
        "id": "0Q8tIp4F21Ah"
      },
      "source": [
        "Define any new parameters and initial conditions:"
      ]
    },
    {
      "cell_type": "code",
      "execution_count": 22,
      "metadata": {
        "id": "EMz5S2fQH0s1"
      },
      "outputs": [],
      "source": [
        "params_abx_dict = params_dict.copy()\n",
        "params_abx_dict['Cm'] = 0\n",
        "params_abx_dict['k_cm'] = 0.005990373118888\n",
        "\n",
        "init_abx_dict = init_dict.copy()\n",
        "init_abx_dict['zmt_0'] = 0\n",
        "init_abx_dict['zmm_0'] = 0\n",
        "init_abx_dict['zmq_0'] = 0\n",
        "init_abx_dict['zmr_0'] = 0\n",
        "\n",
        "params_abx = params_for_sim(params_abx_dict)\n",
        "init_abx = init_for_sim(init_abx_dict)"
      ]
    },
    {
      "cell_type": "markdown",
      "metadata": {
        "id": "E-gpIJSN69eh"
      },
      "source": [
        "Define a function to calculate the ribosomal mass fraction:"
      ]
    },
    {
      "cell_type": "code",
      "execution_count": 23,
      "metadata": {
        "id": "K0G_xmpj7Bsc"
      },
      "outputs": [],
      "source": [
        "def calc_rmf(r, cr, ct, cm, cq, zmr, zmt, zmm, zmq, nr, M):\n",
        "    return nr * (r + cr + ct + cm + cq + zmr + zmt + zmm + zmq) / M"
      ]
    },
    {
      "cell_type": "markdown",
      "metadata": {
        "id": "vPEi05lp240D"
      },
      "source": [
        "For different values of nutrient quality (ns) and chloramphenicol concentration (Cm) solve the model and calculate the associated growth rate and ribosomal mass fraction:"
      ]
    },
    {
      "cell_type": "code",
      "execution_count": 24,
      "metadata": {},
      "outputs": [],
      "source": [
        "ns_arr2 = [0.08,0.11541599,0.16651064,0.24022489,0.3466,0.5]\n",
        "Cm_arr = [0, 2, 4, 8, 12]\n",
        "params_new_dict = params_abx_dict.copy()\n",
        "\n",
        "gr_res = []\n",
        "rmf_res = []\n",
        "for i in ns_arr2:\n",
        "    gr = []\n",
        "    rmf = []\n",
        "    params_new_dict['ns'] = i\n",
        "    for j in Cm_arr:\n",
        "        params_new_dict['Cm'] = j\n",
        "        params_new = params_for_sim(params_new_dict)\n",
        "        sol = solve_ivp(abx_model, [t0, tf], init_abx, args=(params_new,), method='Radau')\n",
        "        mt, mm, mq, mr, ct, cm, cq, cr, et, em, q, r, si, a, zmt, zmm, zmq, zmr = sol.y\n",
        "        gr.append(lam(a[-1], cr[-1], ct[-1], cm[-1], cq[-1], params_new_dict['gmax'], params_new_dict['Kgamma'], params_new_dict['M']))\n",
        "        rmf.append(calc_rmf(r[-1], cr[-1], ct[-1], cm[-1], cq[-1], zmr[-1], zmt[-1], zmm[-1], zmq[-1], params_new_dict['nr'], params_new_dict['M']))\n",
        "    gr_res.append(gr)\n",
        "    rmf_res.append(rmf)"
      ]
    },
    {
      "cell_type": "code",
      "execution_count": 25,
      "metadata": {
        "colab": {
          "base_uri": "https://localhost:8080/",
          "height": 466
        },
        "id": "aTiv7OdzrqCr",
        "outputId": "ad5e9836-270c-4e42-f61f-d4ff48730b2f"
      },
      "outputs": [
        {
          "data": {
            "text/plain": [
              "Text(0, 0.5, 'Ribosomal mass fraction')"
            ]
          },
          "execution_count": 25,
          "metadata": {},
          "output_type": "execute_result"
        },
        {
          "data": {
            "image/png": "[encoded data removed]",
            "text/plain": [
              "<Figure size 640x480 with 1 Axes>"
            ]
          },
          "metadata": {},
          "output_type": "display_data"
        }
      ],
      "source": [
        "# plot the results \n",
        "for i in range(0,len(gr_res)):\n",
        "  plt.plot(gr_res[i], rmf_res[i])\n",
        "\n",
        "plt.xlabel('Growth rate (1/min)')\n",
        "plt.ylabel('Ribosomal mass fraction')\n"
      ]
    },
    {
      "cell_type": "code",
      "execution_count": null,
      "metadata": {},
      "outputs": [],
      "source": []
    }
  ],
  "metadata": {
    "colab": {
      "provenance": []
    },
    "kernelspec": {
      "display_name": ".venv",
      "language": "python",
      "name": "python3"
    },
    "language_info": {
      "codemirror_mode": {
        "name": "ipython",
        "version": 3
      },
      "file_extension": ".py",
      "mimetype": "text/x-python",
      "name": "python",
      "nbconvert_exporter": "python",
      "pygments_lexer": "ipython3",
      "version": "3.11.9"
    }
  },
  "nbformat": 4,
  "nbformat_minor": 0
}
